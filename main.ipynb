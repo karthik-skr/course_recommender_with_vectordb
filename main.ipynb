{
 "cells": [
  {
   "cell_type": "code",
   "execution_count": 16,
   "id": "13d17602",
   "metadata": {},
   "outputs": [],
   "source": [
    "!pip install langchain_openai langchain_chroma  pandas dotenv --quiet"
   ]
  },
  {
   "cell_type": "code",
   "execution_count": 79,
   "id": "7ef57d80",
   "metadata": {},
   "outputs": [],
   "source": [
    "import os\n",
    "from dotenv import load_dotenv\n",
    "\n",
    "load_dotenv()  # Load variables from .env\n",
    "\n",
    "embedding_model_name = \"text-embedding-ada-002\""
   ]
  },
  {
   "cell_type": "code",
   "execution_count": 8,
   "id": "fa05a759",
   "metadata": {},
   "outputs": [],
   "source": [
    "import pandas as pd\n",
    "df = pd.read_csv(\"./courses_dataset.csv\")"
   ]
  },
  {
   "cell_type": "code",
   "execution_count": 10,
   "id": "2869a9e2",
   "metadata": {},
   "outputs": [],
   "source": [
    "from langchain_openai import AzureOpenAIEmbeddings\n",
    "embeddings = AzureOpenAIEmbeddings(model=embedding_model_name,api_version=\"2024-12-01-preview\")"
   ]
  },
  {
   "cell_type": "code",
   "execution_count": null,
   "id": "a8f30458",
   "metadata": {},
   "outputs": [],
   "source": [
    "from langchain_core.documents import Document\n",
    "documents = [\n",
    "    Document(page_content= row[\"title\"] + \": \" + row[\"description\"], metadata={\"course_id\": str(row[\"course_id\"]), \"title\": row[\"title\"]})\n",
    "    for _, row in df.iterrows()\n",
    "]"
   ]
  },
  {
   "cell_type": "code",
   "execution_count": 17,
   "id": "230dbeb2",
   "metadata": {},
   "outputs": [],
   "source": [
    "from langchain_chroma import Chroma\n",
    "vectorstore = Chroma.from_documents(documents=documents, embedding=embeddings)\n"
   ]
  },
  {
   "cell_type": "code",
   "execution_count": 73,
   "id": "24c0b61e",
   "metadata": {},
   "outputs": [],
   "source": [
    "def recommend_courses(profile: str, completed_ids: list[str]) -> list[tuple[str, str, float]]:\n",
    "    filter_ = {\"course_id\": {\"$nin\": completed_ids}} if len(completed_ids) > 0 else None\n",
    "\n",
    "    results = vectorstore.similarity_search_with_score(query=profile, k=5, filter=filter_)\n",
    "\n",
    "    return [(doc.metadata[\"course_id\"], doc.metadata[\"title\"], score) for doc, score in results]"
   ]
  },
  {
   "cell_type": "code",
   "execution_count": 74,
   "id": "351ea287",
   "metadata": {},
   "outputs": [
    {
     "data": {
      "text/plain": [
       "[('C016', 'Python Programming for Data Science', 0.3308434784412384),\n",
       " ('C011', 'Big Data Analytics with Spark', 0.3907507658004761),\n",
       " ('C004', 'Computer Vision and Image Processing', 0.41815078258514404),\n",
       " ('C017', 'R Programming and Statistical Analysis', 0.42748209834098816),\n",
       " ('C012', 'SQL for Data Analysis', 0.4406697750091553)]"
      ]
     },
     "execution_count": 74,
     "metadata": {},
     "output_type": "execute_result"
    }
   ],
   "source": [
    "recommend_courses(\n",
    "    \"I’ve completed the ‘Python Programming for Data Science’ course and enjoy data visualization. What should I take next?\",\n",
    "    ['C014']\n",
    "    )"
   ]
  },
  {
   "cell_type": "code",
   "execution_count": 75,
   "id": "46d261d4",
   "metadata": {},
   "outputs": [
    {
     "data": {
      "text/plain": [
       "[('C007', 'Cloud Computing with Azure', 0.311148077249527),\n",
       " ('C009', 'Containerization with Docker and Kubernetes', 0.33455008268356323),\n",
       " ('C008', 'DevOps Practices and CI/CD', 0.3488312363624573),\n",
       " ('C010', 'APIs and Microservices Architecture', 0.402306467294693),\n",
       " ('C025', 'MLOps: Productionizing Machine Learning', 0.4050137400627136)]"
      ]
     },
     "execution_count": 75,
     "metadata": {},
     "output_type": "execute_result"
    }
   ],
   "source": [
    "recommend_courses(\n",
    "    \"I know Azure basics and want to manage containers and build CI/CD pipelines. Recommend courses.\",\n",
    "    []\n",
    ")"
   ]
  },
  {
   "cell_type": "code",
   "execution_count": 76,
   "id": "e7306aca",
   "metadata": {},
   "outputs": [
    {
     "data": {
      "text/plain": [
       "[('C025', 'MLOps: Productionizing Machine Learning', 0.3238612115383148),\n",
       " ('C002', 'Deep Learning with TensorFlow and Keras', 0.3684665858745575),\n",
       " ('C004', 'Computer Vision and Image Processing', 0.378982812166214),\n",
       " ('C003', 'Natural Language Processing Fundamentals', 0.3809294104576111),\n",
       " ('C001', 'Foundations of Machine Learning', 0.38297075033187866)]"
      ]
     },
     "execution_count": 76,
     "metadata": {},
     "output_type": "execute_result"
    }
   ],
   "source": [
    "recommend_courses(\n",
    "    \"My background is in ML fundamentals; I’d like to specialize in neural networks and production workflows.\",\n",
    "    []\n",
    ")"
   ]
  },
  {
   "cell_type": "code",
   "execution_count": 77,
   "id": "0e1a29d5",
   "metadata": {},
   "outputs": [
    {
     "data": {
      "text/plain": [
       "[('C009', 'Containerization with Docker and Kubernetes', 0.2381223887205124),\n",
       " ('C010', 'APIs and Microservices Architecture', 0.32079559564590454),\n",
       " ('C008', 'DevOps Practices and CI/CD', 0.3699899911880493),\n",
       " ('C007', 'Cloud Computing with Azure', 0.3801954388618469),\n",
       " ('C025', 'MLOps: Productionizing Machine Learning', 0.38485318422317505)]"
      ]
     },
     "execution_count": 77,
     "metadata": {},
     "output_type": "execute_result"
    }
   ],
   "source": [
    "recommend_courses(\n",
    "    \"I want to learn to build and deploy microservices with Kubernetes—what courses fit best?\",\n",
    "    []\n",
    ")"
   ]
  },
  {
   "cell_type": "code",
   "execution_count": 78,
   "id": "3756682b",
   "metadata": {},
   "outputs": [
    {
     "data": {
      "text/plain": [
       "[('C023', 'Blockchain Technology and Smart Contracts', 0.28837913274765015),\n",
       " ('C010', 'APIs and Microservices Architecture', 0.48249563574790955),\n",
       " ('C022', 'Internet of Things (IoT) Development', 0.48679864406585693),\n",
       " ('C013', 'NoSQL Databases and MongoDB', 0.4970172643661499),\n",
       " ('C009', 'Containerization with Docker and Kubernetes', 0.5001373887062073)]"
      ]
     },
     "execution_count": 78,
     "metadata": {},
     "output_type": "execute_result"
    }
   ],
   "source": [
    "recommend_courses(\n",
    "    \"I’m interested in blockchain and smart contracts but have no prior experience. Which courses do you suggest?\",\n",
    "    []\n",
    ")"
   ]
  }
 ],
 "metadata": {
  "kernelspec": {
   "display_name": ".venv",
   "language": "python",
   "name": "python3"
  },
  "language_info": {
   "codemirror_mode": {
    "name": "ipython",
    "version": 3
   },
   "file_extension": ".py",
   "mimetype": "text/x-python",
   "name": "python",
   "nbconvert_exporter": "python",
   "pygments_lexer": "ipython3",
   "version": "3.13.2"
  }
 },
 "nbformat": 4,
 "nbformat_minor": 5
}
